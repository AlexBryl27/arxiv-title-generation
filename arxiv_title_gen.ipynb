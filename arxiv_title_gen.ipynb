{
 "cells": [
  {
   "cell_type": "markdown",
   "metadata": {},
   "source": [
    "# Arxiv Title Generation\n",
    "\n",
    "Последнее задание курса \"Нейронные сеит и обработка текста\" на степике https://stepik.org/lesson/261085/step/1\n",
    "\n",
    "В задаче предлагается по предложенному фрагменту статьи сгенерировать заголовок.\n",
    "В качестве решения я использую предобученную модель BERT в качестве автокодировщика (одна и та же модель для энкодера и декодера). Эту модель я дообучаю на имеющихся данных.\n",
    "\n",
    "Пара замечаний:\n",
    "1. Из России оказалось проблемным купить себе подписку на colab pro, либо арендовать сервер с GPU на google cloud platform (другие решения я пока не рассматривал). Поэтому некоторые параметры обучения (максимальная длина последовательности, размер батча, количество эпох) было обусловлено не оптимальным выбором, а ограничениями пратформы colab.\n",
    "\n",
    "2. Оказалось, что часть статей из тестовых данных встречается в тренировочных. Чтобы не делать лишних предсказаний, в качестве тестового файла используется файл sample.csv, с уже проставленными некоторыми заголовками. В этом ноутбуке работа с дубликатами не показана.\n",
    "\n",
    "Результат: обучив всего одну эпоху модели (больше не позволяла платформа по времени сессии) я получил f1-score около 52 % в соответсвующем соревновании на kaggle https://www.kaggle.com/c/title-generation/leaderboard"
   ]
  },
  {
   "cell_type": "code",
   "execution_count": null,
   "metadata": {
    "id": "dlwfdmKoUC-Z"
   },
   "outputs": [],
   "source": [
    "!pip install transformers"
   ]
  },
  {
   "cell_type": "code",
   "execution_count": 2,
   "metadata": {
    "executionInfo": {
     "elapsed": 6698,
     "status": "ok",
     "timestamp": 1641457127802,
     "user": {
      "displayName": "Alexander Bryl",
      "photoUrl": "https://lh3.googleusercontent.com/a-/AOh14GhuJCeslApg3tibJdmz5Kwp6mDn3oGgdrlMh_Lu=s64",
      "userId": "08526173353073355563"
     },
     "user_tz": -180
    },
    "id": "fLBFYt30RU4q"
   },
   "outputs": [],
   "source": [
    "import pandas as pd\n",
    "from sklearn.model_selection import train_test_split\n",
    "from transformers import BertTokenizer, BertConfig\n",
    "from transformers import EncoderDecoderModel, AdamW\n",
    "import torch\n",
    "import torch.nn.functional as F\n",
    "import torch.nn as nn\n",
    "from torch.utils.data import TensorDataset, DataLoader, RandomSampler, SequentialSampler\n",
    "from keras.preprocessing.sequence import pad_sequences\n",
    "import numpy as np\n",
    "import nltk\n",
    "import matplotlib.pyplot as plt\n",
    "from tqdm.notebook import tqdm"
   ]
  },
  {
   "cell_type": "code",
   "execution_count": 3,
   "metadata": {
    "colab": {
     "base_uri": "https://localhost:8080/"
    },
    "executionInfo": {
     "elapsed": 338,
     "status": "ok",
     "timestamp": 1641457130046,
     "user": {
      "displayName": "Alexander Bryl",
      "photoUrl": "https://lh3.googleusercontent.com/a-/AOh14GhuJCeslApg3tibJdmz5Kwp6mDn3oGgdrlMh_Lu=s64",
      "userId": "08526173353073355563"
     },
     "user_tz": -180
    },
    "id": "pVpJrs1APB6y",
    "outputId": "c14f4ad0-f39f-43f5-db7f-b62e12d1341d"
   },
   "outputs": [
    {
     "data": {
      "text/plain": [
       "device(type='cuda')"
      ]
     },
     "execution_count": 3,
     "metadata": {},
     "output_type": "execute_result"
    }
   ],
   "source": [
    "device = torch.device(\"cuda\" if torch.cuda.is_available() else \"cpu\")\n",
    "device"
   ]
  },
  {
   "cell_type": "markdown",
   "metadata": {},
   "source": [
    "## 1. Data processing"
   ]
  },
  {
   "cell_type": "code",
   "execution_count": 4,
   "metadata": {
    "executionInfo": {
     "elapsed": 399,
     "status": "ok",
     "timestamp": 1641457131541,
     "user": {
      "displayName": "Alexander Bryl",
      "photoUrl": "https://lh3.googleusercontent.com/a-/AOh14GhuJCeslApg3tibJdmz5Kwp6mDn3oGgdrlMh_Lu=s64",
      "userId": "08526173353073355563"
     },
     "user_tz": -180
    },
    "id": "LOvVpgAfS8g7"
   },
   "outputs": [],
   "source": [
    "data_path = 'drive/MyDrive/Colab Notebooks/stepik_data/'"
   ]
  },
  {
   "cell_type": "code",
   "execution_count": 5,
   "metadata": {
    "colab": {
     "base_uri": "https://localhost:8080/",
     "height": 424
    },
    "executionInfo": {
     "elapsed": 1489,
     "status": "ok",
     "timestamp": 1641457133980,
     "user": {
      "displayName": "Alexander Bryl",
      "photoUrl": "https://lh3.googleusercontent.com/a-/AOh14GhuJCeslApg3tibJdmz5Kwp6mDn3oGgdrlMh_Lu=s64",
      "userId": "08526173353073355563"
     },
     "user_tz": -180
    },
    "id": "oIp4CmnXScuS",
    "outputId": "dd5fff7c-ccd6-4f94-d19f-4e18de56cd06"
   },
   "outputs": [
    {
     "data": {
      "text/html": [
       "\n",
       "  <div id=\"df-18aaaa04-8d95-400a-ad64-daf46f7b80a8\">\n",
       "    <div class=\"colab-df-container\">\n",
       "      <div>\n",
       "<style scoped>\n",
       "    .dataframe tbody tr th:only-of-type {\n",
       "        vertical-align: middle;\n",
       "    }\n",
       "\n",
       "    .dataframe tbody tr th {\n",
       "        vertical-align: top;\n",
       "    }\n",
       "\n",
       "    .dataframe thead th {\n",
       "        text-align: right;\n",
       "    }\n",
       "</style>\n",
       "<table border=\"1\" class=\"dataframe\">\n",
       "  <thead>\n",
       "    <tr style=\"text-align: right;\">\n",
       "      <th></th>\n",
       "      <th>abstract</th>\n",
       "      <th>title</th>\n",
       "    </tr>\n",
       "  </thead>\n",
       "  <tbody>\n",
       "    <tr>\n",
       "      <th>0</th>\n",
       "      <td>we consider the problem of utility maximizatio...</td>\n",
       "      <td>on optimal investment with processes of long o...</td>\n",
       "    </tr>\n",
       "    <tr>\n",
       "      <th>1</th>\n",
       "      <td>in this paper we provide an explicit formula f...</td>\n",
       "      <td>boolean complexes for ferrers graphs</td>\n",
       "    </tr>\n",
       "    <tr>\n",
       "      <th>2</th>\n",
       "      <td>kinesin-5, also known as eg5 in vertebrates is...</td>\n",
       "      <td>relative velocity of sliding of microtubules b...</td>\n",
       "    </tr>\n",
       "    <tr>\n",
       "      <th>3</th>\n",
       "      <td>we discuss the transition paths in a coupled b...</td>\n",
       "      <td>bifurcation of transition paths induced by cou...</td>\n",
       "    </tr>\n",
       "    <tr>\n",
       "      <th>4</th>\n",
       "      <td>two types of room temperature detectors of ter...</td>\n",
       "      <td>all-electric detectors of the polarization sta...</td>\n",
       "    </tr>\n",
       "    <tr>\n",
       "      <th>...</th>\n",
       "      <td>...</td>\n",
       "      <td>...</td>\n",
       "    </tr>\n",
       "    <tr>\n",
       "      <th>105598</th>\n",
       "      <td>the epidemic threshold is probably the most st...</td>\n",
       "      <td>epidemic threshold in pairwise models for clus...</td>\n",
       "    </tr>\n",
       "    <tr>\n",
       "      <th>105599</th>\n",
       "      <td>we develop a model characterizing all possible...</td>\n",
       "      <td>characterization of knots and links arising fr...</td>\n",
       "    </tr>\n",
       "    <tr>\n",
       "      <th>105600</th>\n",
       "      <td>a combined technique of interference alignment...</td>\n",
       "      <td>achievable degrees of freedom for closed-form ...</td>\n",
       "    </tr>\n",
       "    <tr>\n",
       "      <th>105601</th>\n",
       "      <td>the correspondence between unmixed bipartite g...</td>\n",
       "      <td>unmixed bipartite graphs and sublattices of th...</td>\n",
       "    </tr>\n",
       "    <tr>\n",
       "      <th>105602</th>\n",
       "      <td>we consider a minimalistic dynamic model of th...</td>\n",
       "      <td>randomly evolving idiotypic networks: structur...</td>\n",
       "    </tr>\n",
       "  </tbody>\n",
       "</table>\n",
       "<p>105603 rows × 2 columns</p>\n",
       "</div>\n",
       "      <button class=\"colab-df-convert\" onclick=\"convertToInteractive('df-18aaaa04-8d95-400a-ad64-daf46f7b80a8')\"\n",
       "              title=\"Convert this dataframe to an interactive table.\"\n",
       "              style=\"display:none;\">\n",
       "        \n",
       "  <svg xmlns=\"http://www.w3.org/2000/svg\" height=\"24px\"viewBox=\"0 0 24 24\"\n",
       "       width=\"24px\">\n",
       "    <path d=\"M0 0h24v24H0V0z\" fill=\"none\"/>\n",
       "    <path d=\"M18.56 5.44l.94 2.06.94-2.06 2.06-.94-2.06-.94-.94-2.06-.94 2.06-2.06.94zm-11 1L8.5 8.5l.94-2.06 2.06-.94-2.06-.94L8.5 2.5l-.94 2.06-2.06.94zm10 10l.94 2.06.94-2.06 2.06-.94-2.06-.94-.94-2.06-.94 2.06-2.06.94z\"/><path d=\"M17.41 7.96l-1.37-1.37c-.4-.4-.92-.59-1.43-.59-.52 0-1.04.2-1.43.59L10.3 9.45l-7.72 7.72c-.78.78-.78 2.05 0 2.83L4 21.41c.39.39.9.59 1.41.59.51 0 1.02-.2 1.41-.59l7.78-7.78 2.81-2.81c.8-.78.8-2.07 0-2.86zM5.41 20L4 18.59l7.72-7.72 1.47 1.35L5.41 20z\"/>\n",
       "  </svg>\n",
       "      </button>\n",
       "      \n",
       "  <style>\n",
       "    .colab-df-container {\n",
       "      display:flex;\n",
       "      flex-wrap:wrap;\n",
       "      gap: 12px;\n",
       "    }\n",
       "\n",
       "    .colab-df-convert {\n",
       "      background-color: #E8F0FE;\n",
       "      border: none;\n",
       "      border-radius: 50%;\n",
       "      cursor: pointer;\n",
       "      display: none;\n",
       "      fill: #1967D2;\n",
       "      height: 32px;\n",
       "      padding: 0 0 0 0;\n",
       "      width: 32px;\n",
       "    }\n",
       "\n",
       "    .colab-df-convert:hover {\n",
       "      background-color: #E2EBFA;\n",
       "      box-shadow: 0px 1px 2px rgba(60, 64, 67, 0.3), 0px 1px 3px 1px rgba(60, 64, 67, 0.15);\n",
       "      fill: #174EA6;\n",
       "    }\n",
       "\n",
       "    [theme=dark] .colab-df-convert {\n",
       "      background-color: #3B4455;\n",
       "      fill: #D2E3FC;\n",
       "    }\n",
       "\n",
       "    [theme=dark] .colab-df-convert:hover {\n",
       "      background-color: #434B5C;\n",
       "      box-shadow: 0px 1px 3px 1px rgba(0, 0, 0, 0.15);\n",
       "      filter: drop-shadow(0px 1px 2px rgba(0, 0, 0, 0.3));\n",
       "      fill: #FFFFFF;\n",
       "    }\n",
       "  </style>\n",
       "\n",
       "      <script>\n",
       "        const buttonEl =\n",
       "          document.querySelector('#df-18aaaa04-8d95-400a-ad64-daf46f7b80a8 button.colab-df-convert');\n",
       "        buttonEl.style.display =\n",
       "          google.colab.kernel.accessAllowed ? 'block' : 'none';\n",
       "\n",
       "        async function convertToInteractive(key) {\n",
       "          const element = document.querySelector('#df-18aaaa04-8d95-400a-ad64-daf46f7b80a8');\n",
       "          const dataTable =\n",
       "            await google.colab.kernel.invokeFunction('convertToInteractive',\n",
       "                                                     [key], {});\n",
       "          if (!dataTable) return;\n",
       "\n",
       "          const docLinkHtml = 'Like what you see? Visit the ' +\n",
       "            '<a target=\"_blank\" href=https://colab.research.google.com/notebooks/data_table.ipynb>data table notebook</a>'\n",
       "            + ' to learn more about interactive tables.';\n",
       "          element.innerHTML = '';\n",
       "          dataTable['output_type'] = 'display_data';\n",
       "          await google.colab.output.renderOutput(dataTable, element);\n",
       "          const docLink = document.createElement('div');\n",
       "          docLink.innerHTML = docLinkHtml;\n",
       "          element.appendChild(docLink);\n",
       "        }\n",
       "      </script>\n",
       "    </div>\n",
       "  </div>\n",
       "  "
      ],
      "text/plain": [
       "                                                 abstract                                              title\n",
       "0       we consider the problem of utility maximizatio...  on optimal investment with processes of long o...\n",
       "1       in this paper we provide an explicit formula f...               boolean complexes for ferrers graphs\n",
       "2       kinesin-5, also known as eg5 in vertebrates is...  relative velocity of sliding of microtubules b...\n",
       "3       we discuss the transition paths in a coupled b...  bifurcation of transition paths induced by cou...\n",
       "4       two types of room temperature detectors of ter...  all-electric detectors of the polarization sta...\n",
       "...                                                   ...                                                ...\n",
       "105598  the epidemic threshold is probably the most st...  epidemic threshold in pairwise models for clus...\n",
       "105599  we develop a model characterizing all possible...  characterization of knots and links arising fr...\n",
       "105600  a combined technique of interference alignment...  achievable degrees of freedom for closed-form ...\n",
       "105601  the correspondence between unmixed bipartite g...  unmixed bipartite graphs and sublattices of th...\n",
       "105602  we consider a minimalistic dynamic model of th...  randomly evolving idiotypic networks: structur...\n",
       "\n",
       "[105603 rows x 2 columns]"
      ]
     },
     "execution_count": 5,
     "metadata": {},
     "output_type": "execute_result"
    }
   ],
   "source": [
    "# processed_data - train, очищенный от дубликатов\n",
    "df = pd.read_csv(data_path + 'processed_data.csv')\n",
    "df"
   ]
  },
  {
   "cell_type": "code",
   "execution_count": 6,
   "metadata": {
    "executionInfo": {
     "elapsed": 251,
     "status": "ok",
     "timestamp": 1641457135803,
     "user": {
      "displayName": "Alexander Bryl",
      "photoUrl": "https://lh3.googleusercontent.com/a-/AOh14GhuJCeslApg3tibJdmz5Kwp6mDn3oGgdrlMh_Lu=s64",
      "userId": "08526173353073355563"
     },
     "user_tz": -180
    },
    "id": "TGSl2I3IOq9P"
   },
   "outputs": [],
   "source": [
    "df['abstract'] = df.abstract.apply(lambda x: \"[CLS] \" + x + \" [SEP]\")\n",
    "df['title'] = df.title.apply(lambda x: \"[CLS] \" + x + \" [SEP]\")"
   ]
  },
  {
   "cell_type": "code",
   "execution_count": 7,
   "metadata": {
    "colab": {
     "base_uri": "https://localhost:8080/"
    },
    "executionInfo": {
     "elapsed": 256,
     "status": "ok",
     "timestamp": 1641457137593,
     "user": {
      "displayName": "Alexander Bryl",
      "photoUrl": "https://lh3.googleusercontent.com/a-/AOh14GhuJCeslApg3tibJdmz5Kwp6mDn3oGgdrlMh_Lu=s64",
      "userId": "08526173353073355563"
     },
     "user_tz": -180
    },
    "id": "0GnHY_QxS3CM",
    "outputId": "4ee5f544-b0d5-4694-ea10-69e066d6deff"
   },
   "outputs": [
    {
     "name": "stdout",
     "output_type": "stream",
     "text": [
      "84482 21121\n"
     ]
    }
   ],
   "source": [
    "train_abstract, test_abstract, train_title, test_title = train_test_split(df.abstract, df.title, test_size=0.2)\n",
    "print(len(train_abstract), len(test_abstract))"
   ]
  },
  {
   "cell_type": "code",
   "execution_count": null,
   "metadata": {
    "id": "zAXtdkF8TwSX"
   },
   "outputs": [],
   "source": [
    "tokenizer = BertTokenizer.from_pretrained('bert-base-uncased', do_lower_case=True)"
   ]
  },
  {
   "cell_type": "code",
   "execution_count": 9,
   "metadata": {
    "colab": {
     "base_uri": "https://localhost:8080/"
    },
    "executionInfo": {
     "elapsed": 387842,
     "status": "ok",
     "timestamp": 1641457540771,
     "user": {
      "displayName": "Alexander Bryl",
      "photoUrl": "https://lh3.googleusercontent.com/a-/AOh14GhuJCeslApg3tibJdmz5Kwp6mDn3oGgdrlMh_Lu=s64",
      "userId": "08526173353073355563"
     },
     "user_tz": -180
    },
    "id": "JPQjv0rJUHye",
    "outputId": "4d29684a-f6f9-43ef-bf74-25f1144948d6"
   },
   "outputs": [
    {
     "name": "stdout",
     "output_type": "stream",
     "text": [
      "['[CLS]', 'bf', '##k', '##l', 'at', 'n', '##nl', '##o', '[SEP]']\n",
      "CPU times: user 6min 25s, sys: 2.41 s, total: 6min 27s\n",
      "Wall time: 6min 27s\n"
     ]
    }
   ],
   "source": [
    "%%time\n",
    "tokenized_texts = [tokenizer.tokenize(sent) for sent in train_abstract]\n",
    "tokenized_titles = [tokenizer.tokenize(sent) for sent in train_title]\n",
    "print(tokenized_titles[0])"
   ]
  },
  {
   "cell_type": "code",
   "execution_count": 10,
   "metadata": {
    "colab": {
     "base_uri": "https://localhost:8080/"
    },
    "executionInfo": {
     "elapsed": 9,
     "status": "ok",
     "timestamp": 1641457540772,
     "user": {
      "displayName": "Alexander Bryl",
      "photoUrl": "https://lh3.googleusercontent.com/a-/AOh14GhuJCeslApg3tibJdmz5Kwp6mDn3oGgdrlMh_Lu=s64",
      "userId": "08526173353073355563"
     },
     "user_tz": -180
    },
    "id": "PP9KmG81Vk2u",
    "outputId": "6b6c0e9c-3f71-4ff8-856e-4a31a592dc49"
   },
   "outputs": [
    {
     "data": {
      "text/plain": [
       "(180.0, 1096)"
      ]
     },
     "execution_count": 10,
     "metadata": {},
     "output_type": "execute_result"
    }
   ],
   "source": [
    "text_lengths = list(map(lambda x: len(x), tokenized_texts))\n",
    "np.median(text_lengths), np.max(text_lengths)"
   ]
  },
  {
   "cell_type": "code",
   "execution_count": 11,
   "metadata": {
    "colab": {
     "base_uri": "https://localhost:8080/",
     "height": 265
    },
    "executionInfo": {
     "elapsed": 424,
     "status": "ok",
     "timestamp": 1641457541191,
     "user": {
      "displayName": "Alexander Bryl",
      "photoUrl": "https://lh3.googleusercontent.com/a-/AOh14GhuJCeslApg3tibJdmz5Kwp6mDn3oGgdrlMh_Lu=s64",
      "userId": "08526173353073355563"
     },
     "user_tz": -180
    },
    "id": "BTp3iJbgPUvu",
    "outputId": "e29b65f6-5839-4f28-9afb-9e2147fdc0d8"
   },
   "outputs": [
    {
     "data": {
      "image/png": "[encoded data removed]",
      "text/plain": [
       "<Figure size 432x288 with 1 Axes>"
      ]
     },
     "metadata": {
      "needs_background": "light"
     },
     "output_type": "display_data"
    }
   ],
   "source": [
    "plt.hist(text_lengths, bins=100)\n",
    "plt.show()"
   ]
  },
  {
   "cell_type": "code",
   "execution_count": 12,
   "metadata": {
    "colab": {
     "base_uri": "https://localhost:8080/"
    },
    "executionInfo": {
     "elapsed": 5,
     "status": "ok",
     "timestamp": 1641457541192,
     "user": {
      "displayName": "Alexander Bryl",
      "photoUrl": "https://lh3.googleusercontent.com/a-/AOh14GhuJCeslApg3tibJdmz5Kwp6mDn3oGgdrlMh_Lu=s64",
      "userId": "08526173353073355563"
     },
     "user_tz": -180
    },
    "id": "2c9iS3Y2onXs",
    "outputId": "40d0c272-7484-4c6c-8c68-8a830ea1b327"
   },
   "outputs": [
    {
     "data": {
      "text/plain": [
       "(15.0, 103)"
      ]
     },
     "execution_count": 12,
     "metadata": {},
     "output_type": "execute_result"
    }
   ],
   "source": [
    "title_lengths = list(map(lambda x: len(x), tokenized_titles))\n",
    "np.median(title_lengths), np.max(title_lengths)"
   ]
  },
  {
   "cell_type": "code",
   "execution_count": 13,
   "metadata": {
    "colab": {
     "base_uri": "https://localhost:8080/",
     "height": 265
    },
    "executionInfo": {
     "elapsed": 396,
     "status": "ok",
     "timestamp": 1641457541585,
     "user": {
      "displayName": "Alexander Bryl",
      "photoUrl": "https://lh3.googleusercontent.com/a-/AOh14GhuJCeslApg3tibJdmz5Kwp6mDn3oGgdrlMh_Lu=s64",
      "userId": "08526173353073355563"
     },
     "user_tz": -180
    },
    "id": "YTEium6tPqdM",
    "outputId": "3683a42f-3a06-4b08-ce38-dfdebca72a19"
   },
   "outputs": [
    {
     "data": {
      "image/png": "[encoded data removed]",
      "text/plain": [
       "<Figure size 432x288 with 1 Axes>"
      ]
     },
     "metadata": {
      "needs_background": "light"
     },
     "output_type": "display_data"
    }
   ],
   "source": [
    "plt.hist(title_lengths, bins=100)\n",
    "plt.show()"
   ]
  },
  {
   "cell_type": "markdown",
   "metadata": {},
   "source": [
    "Максимальную длину последовательности текстов статей стоит выбрать больше 150"
   ]
  },
  {
   "cell_type": "code",
   "execution_count": 14,
   "metadata": {
    "executionInfo": {
     "elapsed": 34823,
     "status": "ok",
     "timestamp": 1641457576406,
     "user": {
      "displayName": "Alexander Bryl",
      "photoUrl": "https://lh3.googleusercontent.com/a-/AOh14GhuJCeslApg3tibJdmz5Kwp6mDn3oGgdrlMh_Lu=s64",
      "userId": "08526173353073355563"
     },
     "user_tz": -180
    },
    "id": "CyxSYnjWVbor"
   },
   "outputs": [],
   "source": [
    "encoder_input_ids = [tokenizer.convert_tokens_to_ids(x) for x in tokenized_texts]\n",
    "encoder_input_ids = pad_sequences(\n",
    "    encoder_input_ids,\n",
    "    maxlen=150,\n",
    "    dtype=\"long\",\n",
    "    truncating=\"post\",\n",
    "    padding=\"post\"\n",
    ")\n",
    "\n",
    "decoder_input_ids = [tokenizer.convert_tokens_to_ids(x) for x in tokenized_titles]\n",
    "decoder_input_ids = pad_sequences(\n",
    "    decoder_input_ids,\n",
    "    maxlen=30,\n",
    "    dtype=\"long\",\n",
    "    truncating=\"post\",\n",
    "    padding=\"post\"\n",
    ")\n",
    "\n",
    "encoder_attention_masks = [[float(i>0) for i in seq] for seq in encoder_input_ids]\n",
    "decoder_attention_masks = [[float(i>0) for i in seq] for seq in decoder_input_ids]"
   ]
  },
  {
   "cell_type": "code",
   "execution_count": 15,
   "metadata": {
    "executionInfo": {
     "elapsed": 13,
     "status": "ok",
     "timestamp": 1641457576407,
     "user": {
      "displayName": "Alexander Bryl",
      "photoUrl": "https://lh3.googleusercontent.com/a-/AOh14GhuJCeslApg3tibJdmz5Kwp6mDn3oGgdrlMh_Lu=s64",
      "userId": "08526173353073355563"
     },
     "user_tz": -180
    },
    "id": "ypcM_6eYXNqE"
   },
   "outputs": [],
   "source": [
    "train_enc_inputs, validation_enc_inputs, train_dec_inputs, validation_dec_inputs = train_test_split(\n",
    "    encoder_input_ids, decoder_input_ids, \n",
    "    random_state=42,\n",
    "    test_size=0.1\n",
    ")\n",
    "\n",
    "train_enc_masks, validation_enc_masks, train_dec_masks, validation_dec_masks = train_test_split(\n",
    "    encoder_attention_masks, decoder_attention_masks,\n",
    "    random_state=42,\n",
    "    test_size=0.1\n",
    ")"
   ]
  },
  {
   "cell_type": "code",
   "execution_count": 16,
   "metadata": {
    "executionInfo": {
     "elapsed": 907,
     "status": "ok",
     "timestamp": 1641457577303,
     "user": {
      "displayName": "Alexander Bryl",
      "photoUrl": "https://lh3.googleusercontent.com/a-/AOh14GhuJCeslApg3tibJdmz5Kwp6mDn3oGgdrlMh_Lu=s64",
      "userId": "08526173353073355563"
     },
     "user_tz": -180
    },
    "id": "KiM4vKZDXsBn"
   },
   "outputs": [],
   "source": [
    "train_enc_inputs = torch.tensor(train_enc_inputs)\n",
    "train_dec_inputs = torch.tensor(train_dec_inputs)\n",
    "train_enc_masks = torch.tensor(train_enc_masks)\n",
    "train_dec_masks = torch.tensor(train_dec_masks)"
   ]
  },
  {
   "cell_type": "code",
   "execution_count": 17,
   "metadata": {
    "executionInfo": {
     "elapsed": 430,
     "status": "ok",
     "timestamp": 1641457577731,
     "user": {
      "displayName": "Alexander Bryl",
      "photoUrl": "https://lh3.googleusercontent.com/a-/AOh14GhuJCeslApg3tibJdmz5Kwp6mDn3oGgdrlMh_Lu=s64",
      "userId": "08526173353073355563"
     },
     "user_tz": -180
    },
    "id": "9kZebXYoXyAF"
   },
   "outputs": [],
   "source": [
    "validation_enc_inputs = torch.tensor(validation_enc_inputs)\n",
    "validation_dec_inputs = torch.tensor(validation_dec_inputs)\n",
    "validation_enc_masks = torch.tensor(validation_enc_masks)\n",
    "validation_dec_masks = torch.tensor(validation_dec_masks)"
   ]
  },
  {
   "cell_type": "code",
   "execution_count": 18,
   "metadata": {
    "executionInfo": {
     "elapsed": 3,
     "status": "ok",
     "timestamp": 1641457577732,
     "user": {
      "displayName": "Alexander Bryl",
      "photoUrl": "https://lh3.googleusercontent.com/a-/AOh14GhuJCeslApg3tibJdmz5Kwp6mDn3oGgdrlMh_Lu=s64",
      "userId": "08526173353073355563"
     },
     "user_tz": -180
    },
    "id": "WgVor3fAcPA1"
   },
   "outputs": [],
   "source": [
    "train_data = TensorDataset(train_enc_inputs, train_dec_inputs, train_enc_masks, train_dec_masks)\n",
    "train_dataloader = DataLoader(\n",
    "    train_data,\n",
    "    sampler=RandomSampler(train_data),\n",
    "    batch_size=16\n",
    ")"
   ]
  },
  {
   "cell_type": "code",
   "execution_count": 19,
   "metadata": {
    "executionInfo": {
     "elapsed": 2,
     "status": "ok",
     "timestamp": 1641457577732,
     "user": {
      "displayName": "Alexander Bryl",
      "photoUrl": "https://lh3.googleusercontent.com/a-/AOh14GhuJCeslApg3tibJdmz5Kwp6mDn3oGgdrlMh_Lu=s64",
      "userId": "08526173353073355563"
     },
     "user_tz": -180
    },
    "id": "8fbLaIVkcSOj"
   },
   "outputs": [],
   "source": [
    "validation_data = TensorDataset(validation_enc_inputs, validation_dec_inputs, validation_enc_masks, validation_dec_masks)\n",
    "validation_dataloader = DataLoader(\n",
    "    validation_data,\n",
    "    sampler=SequentialSampler(validation_data),\n",
    "    batch_size=16\n",
    ")"
   ]
  },
  {
   "cell_type": "markdown",
   "metadata": {},
   "source": [
    "## 2. Model training"
   ]
  },
  {
   "cell_type": "code",
   "execution_count": null,
   "metadata": {
    "id": "64h0UmokcbAD"
   },
   "outputs": [],
   "source": [
    "model = EncoderDecoderModel.from_encoder_decoder_pretrained('bert-base-uncased', 'bert-base-uncased')"
   ]
  },
  {
   "cell_type": "code",
   "execution_count": 21,
   "metadata": {
    "executionInfo": {
     "elapsed": 4,
     "status": "ok",
     "timestamp": 1641457583030,
     "user": {
      "displayName": "Alexander Bryl",
      "photoUrl": "https://lh3.googleusercontent.com/a-/AOh14GhuJCeslApg3tibJdmz5Kwp6mDn3oGgdrlMh_Lu=s64",
      "userId": "08526173353073355563"
     },
     "user_tz": -180
    },
    "id": "wix2SzdnO4Bh"
   },
   "outputs": [],
   "source": [
    "model.config.decoder_start_token_id = tokenizer.cls_token_id\n",
    "model.config.pad_token_id = tokenizer.pad_token_id\n",
    "model.config.vocab_size = model.config.decoder.vocab_size"
   ]
  },
  {
   "cell_type": "code",
   "execution_count": null,
   "metadata": {
    "id": "hiamCqSZceCs"
   },
   "outputs": [],
   "source": [
    "model.cuda()"
   ]
  },
  {
   "cell_type": "markdown",
   "metadata": {},
   "source": [
    "Обучаемые параметры взяты по рекомендации из курса"
   ]
  },
  {
   "cell_type": "code",
   "execution_count": 23,
   "metadata": {
    "executionInfo": {
     "elapsed": 12,
     "status": "ok",
     "timestamp": 1641457586511,
     "user": {
      "displayName": "Alexander Bryl",
      "photoUrl": "https://lh3.googleusercontent.com/a-/AOh14GhuJCeslApg3tibJdmz5Kwp6mDn3oGgdrlMh_Lu=s64",
      "userId": "08526173353073355563"
     },
     "user_tz": -180
    },
    "id": "HpnbQHbIehIy"
   },
   "outputs": [],
   "source": [
    "param_optimizer = list(model.named_parameters())\n",
    "no_decay = ['bias', 'gamma', 'beta']\n",
    "optimizer_grouped_parameters = [\n",
    "    {'params': [p for n, p in param_optimizer if not any(nd in n for nd in no_decay)],\n",
    "     'weight_decay_rate': 0.01},\n",
    "    {'params': [p for n, p in param_optimizer if any(nd in n for nd in no_decay)],\n",
    "     'weight_decay_rate': 0.0}\n",
    "]\n",
    "\n",
    "optimizer = AdamW(optimizer_grouped_parameters, lr=2e-5)"
   ]
  },
  {
   "cell_type": "code",
   "execution_count": 24,
   "metadata": {
    "executionInfo": {
     "elapsed": 11,
     "status": "ok",
     "timestamp": 1641457586511,
     "user": {
      "displayName": "Alexander Bryl",
      "photoUrl": "https://lh3.googleusercontent.com/a-/AOh14GhuJCeslApg3tibJdmz5Kwp6mDn3oGgdrlMh_Lu=s64",
      "userId": "08526173353073355563"
     },
     "user_tz": -180
    },
    "id": "uBXfVt4ZdEYH"
   },
   "outputs": [],
   "source": [
    "## custom loss usage\n",
    "\n",
    "criterion = nn.NLLLoss(ignore_index=tokenizer.pad_token_id)\n",
    "\n",
    "def compute_loss(predictions, targets):\n",
    "    predictions = predictions[:, :-1, :].contiguous()\n",
    "    targets = targets[:, 1:]\n",
    "\n",
    "    rearranged_output = predictions.view(predictions.shape[0]*predictions.shape[1], -1)\n",
    "    rearranged_target = targets.contiguous().view(-1)\n",
    "\n",
    "    loss = criterion(rearranged_output, rearranged_target)\n",
    "\n",
    "    return loss"
   ]
  },
  {
   "cell_type": "code",
   "execution_count": 25,
   "metadata": {
    "executionInfo": {
     "elapsed": 11,
     "status": "ok",
     "timestamp": 1641457586511,
     "user": {
      "displayName": "Alexander Bryl",
      "photoUrl": "https://lh3.googleusercontent.com/a-/AOh14GhuJCeslApg3tibJdmz5Kwp6mDn3oGgdrlMh_Lu=s64",
      "userId": "08526173353073355563"
     },
     "user_tz": -180
    },
    "id": "Qqtn_sdwf-xv"
   },
   "outputs": [],
   "source": [
    "def train(model, iterator, optimizer):\n",
    "    \n",
    "    model.train()\n",
    "    epoch_loss = 0\n",
    "    for i, batch in enumerate(iterator):\n",
    "        \n",
    "        optimizer.zero_grad()\n",
    "        \n",
    "        batch = tuple(t.to(device) for t in batch)\n",
    "        enc_ids, dec_ids, enc_mask, dec_mask = batch\n",
    "        lm_labels = dec_ids.clone()\n",
    "        \n",
    "        outputs = model(\n",
    "            input_ids=enc_ids, \n",
    "            attention_mask=enc_mask, \n",
    "            decoder_input_ids=dec_ids,\n",
    "            decoder_attention_mask=dec_mask,\n",
    "            labels=lm_labels   \n",
    "        )\n",
    "        \n",
    "        prediction_scores = outputs.logits\n",
    "        predictions = F.log_softmax(prediction_scores, dim=2)\n",
    "        loss = compute_loss(predictions, dec_ids)\n",
    "        loss.backward()\n",
    "        \n",
    "        torch.nn.utils.clip_grad_norm_(model.parameters(), 1.0)\n",
    "        optimizer.step()\n",
    "\n",
    "        epoch_loss += loss.item()\n",
    "\n",
    "    print(\"Mean epoch loss:\", (epoch_loss / len(iterator)))"
   ]
  },
  {
   "cell_type": "code",
   "execution_count": 26,
   "metadata": {
    "executionInfo": {
     "elapsed": 12,
     "status": "ok",
     "timestamp": 1641457586512,
     "user": {
      "displayName": "Alexander Bryl",
      "photoUrl": "https://lh3.googleusercontent.com/a-/AOh14GhuJCeslApg3tibJdmz5Kwp6mDn3oGgdrlMh_Lu=s64",
      "userId": "08526173353073355563"
     },
     "user_tz": -180
    },
    "id": "NEDdm4T0psNG"
   },
   "outputs": [],
   "source": [
    "def evaluate(model, iterator):\n",
    "    \n",
    "    model.eval()\n",
    "    epoch_loss = 0\n",
    "    for i, batch in enumerate(iterator):\n",
    "        \n",
    "        optimizer.zero_grad()\n",
    "        \n",
    "        batch = tuple(t.to(device) for t in batch)\n",
    "        enc_ids, dec_ids, enc_mask, dec_mask = batch\n",
    "        lm_labels = dec_ids.clone()\n",
    "        \n",
    "        with torch.no_grad():\n",
    "            outputs = model(\n",
    "                input_ids=enc_ids, \n",
    "                attention_mask=enc_mask, \n",
    "                decoder_input_ids=dec_ids,\n",
    "                decoder_attention_mask=dec_mask,\n",
    "                labels=lm_labels   \n",
    "            )\n",
    "            \n",
    "            prediction_scores = outputs.logits\n",
    "            predictions = F.log_softmax(prediction_scores, dim=2)\n",
    "            loss = compute_loss(predictions, dec_ids)\n",
    "            epoch_loss += loss.item()\n",
    "\n",
    "    print(\"Mean epoch loss:\", (epoch_loss / len(iterator)))"
   ]
  },
  {
   "cell_type": "code",
   "execution_count": 27,
   "metadata": {
    "executionInfo": {
     "elapsed": 13,
     "status": "ok",
     "timestamp": 1641457586513,
     "user": {
      "displayName": "Alexander Bryl",
      "photoUrl": "https://lh3.googleusercontent.com/a-/AOh14GhuJCeslApg3tibJdmz5Kwp6mDn3oGgdrlMh_Lu=s64",
      "userId": "08526173353073355563"
     },
     "user_tz": -180
    },
    "id": "cm7CidO8vxc6"
   },
   "outputs": [],
   "source": [
    "torch.cuda.empty_cache()"
   ]
  },
  {
   "cell_type": "code",
   "execution_count": 28,
   "metadata": {
    "colab": {
     "base_uri": "https://localhost:8080/"
    },
    "executionInfo": {
     "elapsed": 6950143,
     "status": "ok",
     "timestamp": 1641464536644,
     "user": {
      "displayName": "Alexander Bryl",
      "photoUrl": "https://lh3.googleusercontent.com/a-/AOh14GhuJCeslApg3tibJdmz5Kwp6mDn3oGgdrlMh_Lu=s64",
      "userId": "08526173353073355563"
     },
     "user_tz": -180
    },
    "id": "v_lszsBor8nE",
    "outputId": "7068cf90-3b41-4f4a-bc39-c6fdc1f37eab"
   },
   "outputs": [
    {
     "name": "stdout",
     "output_type": "stream",
     "text": [
      "Epoch 1\n"
     ]
    },
    {
     "name": "stderr",
     "output_type": "stream",
     "text": [
      "/usr/local/lib/python3.7/dist-packages/transformers/models/encoder_decoder/modeling_encoder_decoder.py:524: FutureWarning: Version v4.12.0 introduces a better way to train encoder-decoder models by computing the loss inside the encoder-decoder framework rather than in the decoder itself. You may observe training discrepancies if fine-tuning a model trained with versions anterior to 4.12.0. The decoder_input_ids are now created based on the labels, no need to pass them yourself anymore.\n",
      "  warnings.warn(DEPRECATION_WARNING, FutureWarning)\n"
     ]
    },
    {
     "name": "stdout",
     "output_type": "stream",
     "text": [
      "Mean epoch loss: 4.385681864840594\n",
      "Mean epoch loss: 3.5504379889915483\n"
     ]
    }
   ],
   "source": [
    "for epoch in range(1):\n",
    "    print('Epoch', epoch+1)\n",
    "    train(model, train_dataloader, optimizer)\n",
    "    evaluate(model, validation_dataloader)"
   ]
  },
  {
   "cell_type": "code",
   "execution_count": 29,
   "metadata": {
    "executionInfo": {
     "elapsed": 4286,
     "status": "ok",
     "timestamp": 1641464542204,
     "user": {
      "displayName": "Alexander Bryl",
      "photoUrl": "https://lh3.googleusercontent.com/a-/AOh14GhuJCeslApg3tibJdmz5Kwp6mDn3oGgdrlMh_Lu=s64",
      "userId": "08526173353073355563"
     },
     "user_tz": -180
    },
    "id": "bW9u9NYh3Yxr"
   },
   "outputs": [],
   "source": [
    "model.save_pretrained(data_path + 'bert2bert')"
   ]
  },
  {
   "cell_type": "markdown",
   "metadata": {},
   "source": [
    "## 3. Model evaluation\n",
    "\n",
    "Предобработка включает все шаги процессинга, но уже для тестовых данных. Генерация будет осуществляться встроенными методами модели."
   ]
  },
  {
   "cell_type": "code",
   "execution_count": 30,
   "metadata": {
    "colab": {
     "base_uri": "https://localhost:8080/"
    },
    "executionInfo": {
     "elapsed": 99676,
     "status": "ok",
     "timestamp": 1641464650136,
     "user": {
      "displayName": "Alexander Bryl",
      "photoUrl": "https://lh3.googleusercontent.com/a-/AOh14GhuJCeslApg3tibJdmz5Kwp6mDn3oGgdrlMh_Lu=s64",
      "userId": "08526173353073355563"
     },
     "user_tz": -180
    },
    "id": "cb_iFtXDsuAI",
    "outputId": "1592f3ef-b0a7-4e67-9754-de5a6bf15bc2"
   },
   "outputs": [
    {
     "name": "stdout",
     "output_type": "stream",
     "text": [
      "CPU times: user 1min 37s, sys: 1.41 s, total: 1min 38s\n",
      "Wall time: 1min 39s\n"
     ]
    }
   ],
   "source": [
    "%%time\n",
    "tokenized_texts = [tokenizer.tokenize(sent) for sent in test_abstract]\n",
    "tokenized_titles = [tokenizer.tokenize(sent) for sent in test_title]"
   ]
  },
  {
   "cell_type": "code",
   "execution_count": 31,
   "metadata": {
    "executionInfo": {
     "elapsed": 4592,
     "status": "ok",
     "timestamp": 1641464658820,
     "user": {
      "displayName": "Alexander Bryl",
      "photoUrl": "https://lh3.googleusercontent.com/a-/AOh14GhuJCeslApg3tibJdmz5Kwp6mDn3oGgdrlMh_Lu=s64",
      "userId": "08526173353073355563"
     },
     "user_tz": -180
    },
    "id": "ZuzFF5k3wFoC"
   },
   "outputs": [],
   "source": [
    "test_input_ids = [tokenizer.convert_tokens_to_ids(x) for x in tokenized_texts]\n",
    "test_input_ids = pad_sequences(\n",
    "    test_input_ids,\n",
    "    maxlen=150,\n",
    "    dtype=\"long\",\n",
    "    truncating=\"post\",\n",
    "    padding=\"post\"\n",
    ")"
   ]
  },
  {
   "cell_type": "code",
   "execution_count": 32,
   "metadata": {
    "executionInfo": {
     "elapsed": 2,
     "status": "ok",
     "timestamp": 1641464658821,
     "user": {
      "displayName": "Alexander Bryl",
      "photoUrl": "https://lh3.googleusercontent.com/a-/AOh14GhuJCeslApg3tibJdmz5Kwp6mDn3oGgdrlMh_Lu=s64",
      "userId": "08526173353073355563"
     },
     "user_tz": -180
    },
    "id": "j5feIU6cPz6H"
   },
   "outputs": [],
   "source": [
    "test_input_ids = torch.tensor(test_input_ids)"
   ]
  },
  {
   "cell_type": "markdown",
   "metadata": {},
   "source": [
    "Ниже пример сгенерированного заголовка и реальный тестовый заголовок"
   ]
  },
  {
   "cell_type": "code",
   "execution_count": 33,
   "metadata": {
    "colab": {
     "base_uri": "https://localhost:8080/"
    },
    "executionInfo": {
     "elapsed": 661,
     "status": "ok",
     "timestamp": 1641464685327,
     "user": {
      "displayName": "Alexander Bryl",
      "photoUrl": "https://lh3.googleusercontent.com/a-/AOh14GhuJCeslApg3tibJdmz5Kwp6mDn3oGgdrlMh_Lu=s64",
      "userId": "08526173353073355563"
     },
     "user_tz": -180
    },
    "id": "YrVDRzYP6vwY",
    "outputId": "3e493684-19d4-4ca2-d67c-1729016f2b31"
   },
   "outputs": [
    {
     "data": {
      "text/plain": [
       "['[CLS]',\n",
       " 'on',\n",
       " 'the',\n",
       " 'semi',\n",
       " '##group',\n",
       " '##s',\n",
       " 'of',\n",
       " 'the',\n",
       " 'semi',\n",
       " '##group',\n",
       " '##s',\n",
       " 'of',\n",
       " 'the',\n",
       " 'semi',\n",
       " '##group',\n",
       " '##s',\n",
       " '[SEP]',\n",
       " 'on',\n",
       " 'the',\n",
       " 'semi']"
      ]
     },
     "execution_count": 33,
     "metadata": {},
     "output_type": "execute_result"
    }
   ],
   "source": [
    "generated_ids = model.generate(test_input_ids[0].unsqueeze(0).to(device))\n",
    "generated_text = tokenizer.convert_ids_to_tokens(generated_ids[0])\n",
    "generated_text"
   ]
  },
  {
   "cell_type": "code",
   "execution_count": 34,
   "metadata": {
    "colab": {
     "base_uri": "https://localhost:8080/"
    },
    "executionInfo": {
     "elapsed": 257,
     "status": "ok",
     "timestamp": 1641464717141,
     "user": {
      "displayName": "Alexander Bryl",
      "photoUrl": "https://lh3.googleusercontent.com/a-/AOh14GhuJCeslApg3tibJdmz5Kwp6mDn3oGgdrlMh_Lu=s64",
      "userId": "08526173353073355563"
     },
     "user_tz": -180
    },
    "id": "sTRwAQ5Y65NI",
    "outputId": "056e3e37-4940-4197-8c76-040d3544fad3"
   },
   "outputs": [
    {
     "data": {
      "text/plain": [
       "['[CLS]',\n",
       " 'functions',\n",
       " 'with',\n",
       " 'support',\n",
       " 'in',\n",
       " 'a',\n",
       " 'lac',\n",
       " '##una',\n",
       " '##ry',\n",
       " 'system',\n",
       " 'of',\n",
       " 'intervals',\n",
       " 'and',\n",
       " 'cyclic',\n",
       " '##ity',\n",
       " 'for',\n",
       " 'the',\n",
       " 'semi',\n",
       " '-',\n",
       " 'group',\n",
       " 'of',\n",
       " 'left',\n",
       " 'translations',\n",
       " '[SEP]']"
      ]
     },
     "execution_count": 34,
     "metadata": {},
     "output_type": "execute_result"
    }
   ],
   "source": [
    "tokenized_titles[0]"
   ]
  },
  {
   "cell_type": "markdown",
   "metadata": {},
   "source": [
    "Оценка модели производится так же, как и в курсовом бейслайне"
   ]
  },
  {
   "cell_type": "code",
   "execution_count": null,
   "metadata": {
    "id": "-ZLYJie23j16"
   },
   "outputs": [],
   "source": [
    "n_gram_weights = [0.3334, 0.3333, 0.3333]\n",
    "macro_bleu = 0\n",
    "\n",
    "for input_id, target_text in tqdm(zip(test_input_ids, tokenized_titles), total=len(test_title)):\n",
    "    generated_ids = model.generate(input_id.unsqueeze(0).to(device))\n",
    "    generated_text = tokenizer.convert_ids_to_tokens(generated_ids[0])\n",
    "    bleu_score = nltk.translate.bleu_score.sentence_bleu(\n",
    "        target_text,\n",
    "        generated_text,\n",
    "        weights = n_gram_weights\n",
    "    )    \n",
    "    macro_bleu += bleu_score\n",
    "macro_bleu /= len(test_titlle)\n",
    "macro_bleu"
   ]
  },
  {
   "cell_type": "code",
   "execution_count": 36,
   "metadata": {
    "colab": {
     "base_uri": "https://localhost:8080/"
    },
    "executionInfo": {
     "elapsed": 270,
     "status": "ok",
     "timestamp": 1641464839519,
     "user": {
      "displayName": "Alexander Bryl",
      "photoUrl": "https://lh3.googleusercontent.com/a-/AOh14GhuJCeslApg3tibJdmz5Kwp6mDn3oGgdrlMh_Lu=s64",
      "userId": "08526173353073355563"
     },
     "user_tz": -180
    },
    "id": "aHA21C6p3r1i",
    "outputId": "cacc9f0e-44c6-44b3-ea64-908c06ce1c40"
   },
   "outputs": [
    {
     "data": {
      "text/plain": [
       "59.85722808690963"
      ]
     },
     "execution_count": 36,
     "metadata": {},
     "output_type": "execute_result"
    }
   ],
   "source": [
    "macro_bleu"
   ]
  },
  {
   "cell_type": "markdown",
   "metadata": {
    "executionInfo": {
     "elapsed": 515,
     "status": "ok",
     "timestamp": 1641464928173,
     "user": {
      "displayName": "Alexander Bryl",
      "photoUrl": "https://lh3.googleusercontent.com/a-/AOh14GhuJCeslApg3tibJdmz5Kwp6mDn3oGgdrlMh_Lu=s64",
      "userId": "08526173353073355563"
     },
     "user_tz": -180
    },
    "id": "a8QYlVuabyk-"
   },
   "source": [
    "## 4. Submission making"
   ]
  },
  {
   "cell_type": "code",
   "execution_count": 38,
   "metadata": {
    "colab": {
     "base_uri": "https://localhost:8080/",
     "height": 424
    },
    "executionInfo": {
     "elapsed": 664,
     "status": "ok",
     "timestamp": 1641464978354,
     "user": {
      "displayName": "Alexander Bryl",
      "photoUrl": "https://lh3.googleusercontent.com/a-/AOh14GhuJCeslApg3tibJdmz5Kwp6mDn3oGgdrlMh_Lu=s64",
      "userId": "08526173353073355563"
     },
     "user_tz": -180
    },
    "id": "kT3qjJKy7yEj",
    "outputId": "875d0aea-b141-43a4-dbf0-312074ec6cd8"
   },
   "outputs": [
    {
     "data": {
      "text/html": [
       "\n",
       "  <div id=\"df-e271531f-dde1-4eae-9604-6fa8927b6f3f\">\n",
       "    <div class=\"colab-df-container\">\n",
       "      <div>\n",
       "<style scoped>\n",
       "    .dataframe tbody tr th:only-of-type {\n",
       "        vertical-align: middle;\n",
       "    }\n",
       "\n",
       "    .dataframe tbody tr th {\n",
       "        vertical-align: top;\n",
       "    }\n",
       "\n",
       "    .dataframe thead th {\n",
       "        text-align: right;\n",
       "    }\n",
       "</style>\n",
       "<table border=\"1\" class=\"dataframe\">\n",
       "  <thead>\n",
       "    <tr style=\"text-align: right;\">\n",
       "      <th></th>\n",
       "      <th>abstract</th>\n",
       "      <th>title</th>\n",
       "    </tr>\n",
       "  </thead>\n",
       "  <tbody>\n",
       "    <tr>\n",
       "      <th>0</th>\n",
       "      <td>Most sequence transformation models use recurr...</td>\n",
       "      <td>NaN</td>\n",
       "    </tr>\n",
       "    <tr>\n",
       "      <th>1</th>\n",
       "      <td>The doc2vec approach was introduced as an exte...</td>\n",
       "      <td>NaN</td>\n",
       "    </tr>\n",
       "    <tr>\n",
       "      <th>2</th>\n",
       "      <td>LSTM models can vary greatly depending on sequ...</td>\n",
       "      <td>NaN</td>\n",
       "    </tr>\n",
       "    <tr>\n",
       "      <th>3</th>\n",
       "      <td>A joint learning process of alignment and tran...</td>\n",
       "      <td>NaN</td>\n",
       "    </tr>\n",
       "    <tr>\n",
       "      <th>4</th>\n",
       "      <td>Current unsupervised image-to-image translatio...</td>\n",
       "      <td>NaN</td>\n",
       "    </tr>\n",
       "    <tr>\n",
       "      <th>...</th>\n",
       "      <td>...</td>\n",
       "      <td>...</td>\n",
       "    </tr>\n",
       "    <tr>\n",
       "      <th>995</th>\n",
       "      <td>subsystem codes are the most versatile class o...</td>\n",
       "      <td>NaN</td>\n",
       "    </tr>\n",
       "    <tr>\n",
       "      <th>996</th>\n",
       "      <td>we study dirac-harmonic maps from degenerating...</td>\n",
       "      <td>NaN</td>\n",
       "    </tr>\n",
       "    <tr>\n",
       "      <th>997</th>\n",
       "      <td>in this note we study kloosterman sums twisted...</td>\n",
       "      <td>NaN</td>\n",
       "    </tr>\n",
       "    <tr>\n",
       "      <th>998</th>\n",
       "      <td>we obtain the rate of growth of long strange s...</td>\n",
       "      <td>long strange segments, ruin probabilities and ...</td>\n",
       "    </tr>\n",
       "    <tr>\n",
       "      <th>999</th>\n",
       "      <td>the time evolution of a spin-1/2 particle unde...</td>\n",
       "      <td>NaN</td>\n",
       "    </tr>\n",
       "  </tbody>\n",
       "</table>\n",
       "<p>1000 rows × 2 columns</p>\n",
       "</div>\n",
       "      <button class=\"colab-df-convert\" onclick=\"convertToInteractive('df-e271531f-dde1-4eae-9604-6fa8927b6f3f')\"\n",
       "              title=\"Convert this dataframe to an interactive table.\"\n",
       "              style=\"display:none;\">\n",
       "        \n",
       "  <svg xmlns=\"http://www.w3.org/2000/svg\" height=\"24px\"viewBox=\"0 0 24 24\"\n",
       "       width=\"24px\">\n",
       "    <path d=\"M0 0h24v24H0V0z\" fill=\"none\"/>\n",
       "    <path d=\"M18.56 5.44l.94 2.06.94-2.06 2.06-.94-2.06-.94-.94-2.06-.94 2.06-2.06.94zm-11 1L8.5 8.5l.94-2.06 2.06-.94-2.06-.94L8.5 2.5l-.94 2.06-2.06.94zm10 10l.94 2.06.94-2.06 2.06-.94-2.06-.94-.94-2.06-.94 2.06-2.06.94z\"/><path d=\"M17.41 7.96l-1.37-1.37c-.4-.4-.92-.59-1.43-.59-.52 0-1.04.2-1.43.59L10.3 9.45l-7.72 7.72c-.78.78-.78 2.05 0 2.83L4 21.41c.39.39.9.59 1.41.59.51 0 1.02-.2 1.41-.59l7.78-7.78 2.81-2.81c.8-.78.8-2.07 0-2.86zM5.41 20L4 18.59l7.72-7.72 1.47 1.35L5.41 20z\"/>\n",
       "  </svg>\n",
       "      </button>\n",
       "      \n",
       "  <style>\n",
       "    .colab-df-container {\n",
       "      display:flex;\n",
       "      flex-wrap:wrap;\n",
       "      gap: 12px;\n",
       "    }\n",
       "\n",
       "    .colab-df-convert {\n",
       "      background-color: #E8F0FE;\n",
       "      border: none;\n",
       "      border-radius: 50%;\n",
       "      cursor: pointer;\n",
       "      display: none;\n",
       "      fill: #1967D2;\n",
       "      height: 32px;\n",
       "      padding: 0 0 0 0;\n",
       "      width: 32px;\n",
       "    }\n",
       "\n",
       "    .colab-df-convert:hover {\n",
       "      background-color: #E2EBFA;\n",
       "      box-shadow: 0px 1px 2px rgba(60, 64, 67, 0.3), 0px 1px 3px 1px rgba(60, 64, 67, 0.15);\n",
       "      fill: #174EA6;\n",
       "    }\n",
       "\n",
       "    [theme=dark] .colab-df-convert {\n",
       "      background-color: #3B4455;\n",
       "      fill: #D2E3FC;\n",
       "    }\n",
       "\n",
       "    [theme=dark] .colab-df-convert:hover {\n",
       "      background-color: #434B5C;\n",
       "      box-shadow: 0px 1px 3px 1px rgba(0, 0, 0, 0.15);\n",
       "      filter: drop-shadow(0px 1px 2px rgba(0, 0, 0, 0.3));\n",
       "      fill: #FFFFFF;\n",
       "    }\n",
       "  </style>\n",
       "\n",
       "      <script>\n",
       "        const buttonEl =\n",
       "          document.querySelector('#df-e271531f-dde1-4eae-9604-6fa8927b6f3f button.colab-df-convert');\n",
       "        buttonEl.style.display =\n",
       "          google.colab.kernel.accessAllowed ? 'block' : 'none';\n",
       "\n",
       "        async function convertToInteractive(key) {\n",
       "          const element = document.querySelector('#df-e271531f-dde1-4eae-9604-6fa8927b6f3f');\n",
       "          const dataTable =\n",
       "            await google.colab.kernel.invokeFunction('convertToInteractive',\n",
       "                                                     [key], {});\n",
       "          if (!dataTable) return;\n",
       "\n",
       "          const docLinkHtml = 'Like what you see? Visit the ' +\n",
       "            '<a target=\"_blank\" href=https://colab.research.google.com/notebooks/data_table.ipynb>data table notebook</a>'\n",
       "            + ' to learn more about interactive tables.';\n",
       "          element.innerHTML = '';\n",
       "          dataTable['output_type'] = 'display_data';\n",
       "          await google.colab.output.renderOutput(dataTable, element);\n",
       "          const docLink = document.createElement('div');\n",
       "          docLink.innerHTML = docLinkHtml;\n",
       "          element.appendChild(docLink);\n",
       "        }\n",
       "      </script>\n",
       "    </div>\n",
       "  </div>\n",
       "  "
      ],
      "text/plain": [
       "                                              abstract                                              title\n",
       "0    Most sequence transformation models use recurr...                                                NaN\n",
       "1    The doc2vec approach was introduced as an exte...                                                NaN\n",
       "2    LSTM models can vary greatly depending on sequ...                                                NaN\n",
       "3    A joint learning process of alignment and tran...                                                NaN\n",
       "4    Current unsupervised image-to-image translatio...                                                NaN\n",
       "..                                                 ...                                                ...\n",
       "995  subsystem codes are the most versatile class o...                                                NaN\n",
       "996  we study dirac-harmonic maps from degenerating...                                                NaN\n",
       "997  in this note we study kloosterman sums twisted...                                                NaN\n",
       "998  we obtain the rate of growth of long strange s...  long strange segments, ruin probabilities and ...\n",
       "999  the time evolution of a spin-1/2 particle unde...                                                NaN\n",
       "\n",
       "[1000 rows x 2 columns]"
      ]
     },
     "execution_count": 38,
     "metadata": {},
     "output_type": "execute_result"
    }
   ],
   "source": [
    "## в sample.csv проставлены тайтлы тех документов, которые были в тренировочных данных\n",
    "test_data = pd.read_csv(data_path + 'sample.csv')\n",
    "test_data"
   ]
  },
  {
   "cell_type": "code",
   "execution_count": 41,
   "metadata": {
    "executionInfo": {
     "elapsed": 2729,
     "status": "ok",
     "timestamp": 1641465135294,
     "user": {
      "displayName": "Alexander Bryl",
      "photoUrl": "https://lh3.googleusercontent.com/a-/AOh14GhuJCeslApg3tibJdmz5Kwp6mDn3oGgdrlMh_Lu=s64",
      "userId": "08526173353073355563"
     },
     "user_tz": -180
    },
    "id": "COg4Kuhb75xQ"
   },
   "outputs": [],
   "source": [
    "test_texts = test_data[test_data.title.isna()].abstract.apply(lambda x: \"[CLS] \" + x + \" [SEP]\")\n",
    "test_text_tokenized = [tokenizer.tokenize(sent) for sent in test_texts]"
   ]
  },
  {
   "cell_type": "code",
   "execution_count": 42,
   "metadata": {
    "executionInfo": {
     "elapsed": 277,
     "status": "ok",
     "timestamp": 1641465170744,
     "user": {
      "displayName": "Alexander Bryl",
      "photoUrl": "https://lh3.googleusercontent.com/a-/AOh14GhuJCeslApg3tibJdmz5Kwp6mDn3oGgdrlMh_Lu=s64",
      "userId": "08526173353073355563"
     },
     "user_tz": -180
    },
    "id": "-luesyAR8BwA"
   },
   "outputs": [],
   "source": [
    "test_input_ids = [tokenizer.convert_tokens_to_ids(x) for x in test_text_tokenized]\n",
    "test_input_ids = pad_sequences(\n",
    "    test_input_ids,\n",
    "    maxlen=150,\n",
    "    dtype=\"long\",\n",
    "    truncating=\"post\",\n",
    "    padding=\"post\"\n",
    ")"
   ]
  },
  {
   "cell_type": "code",
   "execution_count": 43,
   "metadata": {
    "executionInfo": {
     "elapsed": 262,
     "status": "ok",
     "timestamp": 1641465172631,
     "user": {
      "displayName": "Alexander Bryl",
      "photoUrl": "https://lh3.googleusercontent.com/a-/AOh14GhuJCeslApg3tibJdmz5Kwp6mDn3oGgdrlMh_Lu=s64",
      "userId": "08526173353073355563"
     },
     "user_tz": -180
    },
    "id": "o1rxEz5o8siF"
   },
   "outputs": [],
   "source": [
    "test_input_ids = torch.tensor(test_input_ids)"
   ]
  },
  {
   "cell_type": "markdown",
   "metadata": {},
   "source": [
    "Дополнительно я очищаю тексты от служебных токенов и повторений."
   ]
  },
  {
   "cell_type": "code",
   "execution_count": 63,
   "metadata": {
    "executionInfo": {
     "elapsed": 270,
     "status": "ok",
     "timestamp": 1641466409999,
     "user": {
      "displayName": "Alexander Bryl",
      "photoUrl": "https://lh3.googleusercontent.com/a-/AOh14GhuJCeslApg3tibJdmz5Kwp6mDn3oGgdrlMh_Lu=s64",
      "userId": "08526173353073355563"
     },
     "user_tz": -180
    },
    "id": "P1evikWx977g",
    "tags": []
   },
   "outputs": [],
   "source": [
    "def clear_generated(generated_text):\n",
    "    prev_token = ''\n",
    "    result = []\n",
    "    for token in generated_text.split():\n",
    "        if token in (['[CLS]', '[SEP]', '[PAD]']):\n",
    "            continue\n",
    "        elif token == prev_token:\n",
    "            continue\n",
    "        else:\n",
    "            prev_token = token\n",
    "            result.append(token)\n",
    "    return result"
   ]
  },
  {
   "cell_type": "code",
   "execution_count": 64,
   "metadata": {
    "colab": {
     "base_uri": "https://localhost:8080/",
     "height": 49,
     "referenced_widgets": [
      "81e3a48911a643b6842311b74ced26da",
      "c62883dff2a6444498fe91a503e296e4",
      "ce83e137773143dc8eeb73d0a7361397",
      "2e56d308865b4858be49fe3c6062774f",
      "703586564b1440e2ba562198ad0d1c9e",
      "1b7a83bf15ab4d3182b2c33b9e305b88",
      "0c9432a10c684503a7a4fa2fded08f29",
      "2d7a2761070e4718a122a5077934cc8a",
      "8a98f5d4a41a4b02958e448c57785212",
      "877463ab4eae489da0b59e0418cb2dbc",
      "5c3bca88380a4e5bb5e22263d500bd8a"
     ]
    },
    "executionInfo": {
     "elapsed": 266133,
     "status": "ok",
     "timestamp": 1641466677577,
     "user": {
      "displayName": "Alexander Bryl",
      "photoUrl": "https://lh3.googleusercontent.com/a-/AOh14GhuJCeslApg3tibJdmz5Kwp6mDn3oGgdrlMh_Lu=s64",
      "userId": "08526173353073355563"
     },
     "user_tz": -180
    },
    "id": "MtD5Pg9d8tAU",
    "outputId": "85584d6b-e2cb-4460-d07f-f4d0caeb3d79"
   },
   "outputs": [
    {
     "data": {
      "application/vnd.jupyter.widget-view+json": {
       "model_id": "81e3a48911a643b6842311b74ced26da",
       "version_major": 2,
       "version_minor": 0
      },
      "text/plain": [
       "  0%|          | 0/569 [00:00<?, ?it/s]"
      ]
     },
     "metadata": {},
     "output_type": "display_data"
    }
   ],
   "source": [
    "for test_id, idx in tqdm(zip(test_input_ids, test_texts.index), total=len(test_texts)):\n",
    "    generated_ids = model.generate(test_id.unsqueeze(0).to(device))\n",
    "    generated_text = tokenizer.convert_ids_to_tokens(generated_ids[0])\n",
    "    generated_text = tokenizer.convert_tokens_to_string(generated_text)\n",
    "    generated_text = clear_generated(generated_text)\n",
    "    test_data.loc[idx, 'title'] = ' '.join(generated_text)"
   ]
  },
  {
   "cell_type": "code",
   "execution_count": 65,
   "metadata": {
    "colab": {
     "base_uri": "https://localhost:8080/",
     "height": 424
    },
    "executionInfo": {
     "elapsed": 278,
     "status": "ok",
     "timestamp": 1641466727415,
     "user": {
      "displayName": "Alexander Bryl",
      "photoUrl": "https://lh3.googleusercontent.com/a-/AOh14GhuJCeslApg3tibJdmz5Kwp6mDn3oGgdrlMh_Lu=s64",
      "userId": "08526173353073355563"
     },
     "user_tz": -180
    },
    "id": "FWN4aN8Z-97a",
    "outputId": "dd12d36b-d73e-4b66-9a45-82870aacd00a"
   },
   "outputs": [
    {
     "data": {
      "text/html": [
       "\n",
       "  <div id=\"df-b9d927d7-37bf-4c92-9952-8e14128af74d\">\n",
       "    <div class=\"colab-df-container\">\n",
       "      <div>\n",
       "<style scoped>\n",
       "    .dataframe tbody tr th:only-of-type {\n",
       "        vertical-align: middle;\n",
       "    }\n",
       "\n",
       "    .dataframe tbody tr th {\n",
       "        vertical-align: top;\n",
       "    }\n",
       "\n",
       "    .dataframe thead th {\n",
       "        text-align: right;\n",
       "    }\n",
       "</style>\n",
       "<table border=\"1\" class=\"dataframe\">\n",
       "  <thead>\n",
       "    <tr style=\"text-align: right;\">\n",
       "      <th></th>\n",
       "      <th>abstract</th>\n",
       "      <th>title</th>\n",
       "    </tr>\n",
       "  </thead>\n",
       "  <tbody>\n",
       "    <tr>\n",
       "      <th>0</th>\n",
       "      <td>Most sequence transformation models use recurr...</td>\n",
       "      <td>a deep learning approach to recurrent neural n...</td>\n",
       "    </tr>\n",
       "    <tr>\n",
       "      <th>1</th>\n",
       "      <td>The doc2vec approach was introduced as an exte...</td>\n",
       "      <td>a new approach to the emc2c22veveveveveveveve</td>\n",
       "    </tr>\n",
       "    <tr>\n",
       "      <th>2</th>\n",
       "      <td>LSTM models can vary greatly depending on sequ...</td>\n",
       "      <td>a multiplicative lstmm approach to lstm search...</td>\n",
       "    </tr>\n",
       "    <tr>\n",
       "      <th>3</th>\n",
       "      <td>A joint learning process of alignment and tran...</td>\n",
       "      <td>a new approach to understanding the attention ...</td>\n",
       "    </tr>\n",
       "    <tr>\n",
       "      <th>4</th>\n",
       "      <td>Current unsupervised image-to-image translatio...</td>\n",
       "      <td>unsupervised image translation unsuperpervised</td>\n",
       "    </tr>\n",
       "    <tr>\n",
       "      <th>...</th>\n",
       "      <td>...</td>\n",
       "      <td>...</td>\n",
       "    </tr>\n",
       "    <tr>\n",
       "      <th>995</th>\n",
       "      <td>subsystem codes are the most versatile class o...</td>\n",
       "      <td>subsymmetric subsymme</td>\n",
       "    </tr>\n",
       "    <tr>\n",
       "      <th>996</th>\n",
       "      <td>we study dirac-harmonic maps from degenerating...</td>\n",
       "      <td>dirichlet - type dirichlet maps on the dir dir...</td>\n",
       "    </tr>\n",
       "    <tr>\n",
       "      <th>997</th>\n",
       "      <td>in this note we study kloosterman sums twisted...</td>\n",
       "      <td>a note on kronecker sums counting on k \\ ' e $...</td>\n",
       "    </tr>\n",
       "    <tr>\n",
       "      <th>998</th>\n",
       "      <td>we obtain the rate of growth of long strange s...</td>\n",
       "      <td>long strange segments, ruin probabilities and ...</td>\n",
       "    </tr>\n",
       "    <tr>\n",
       "      <th>999</th>\n",
       "      <td>the time evolution of a spin-1/2 particle unde...</td>\n",
       "      <td>a non - equilibrium model of the spin - orbit ...</td>\n",
       "    </tr>\n",
       "  </tbody>\n",
       "</table>\n",
       "<p>1000 rows × 2 columns</p>\n",
       "</div>\n",
       "      <button class=\"colab-df-convert\" onclick=\"convertToInteractive('df-b9d927d7-37bf-4c92-9952-8e14128af74d')\"\n",
       "              title=\"Convert this dataframe to an interactive table.\"\n",
       "              style=\"display:none;\">\n",
       "        \n",
       "  <svg xmlns=\"http://www.w3.org/2000/svg\" height=\"24px\"viewBox=\"0 0 24 24\"\n",
       "       width=\"24px\">\n",
       "    <path d=\"M0 0h24v24H0V0z\" fill=\"none\"/>\n",
       "    <path d=\"M18.56 5.44l.94 2.06.94-2.06 2.06-.94-2.06-.94-.94-2.06-.94 2.06-2.06.94zm-11 1L8.5 8.5l.94-2.06 2.06-.94-2.06-.94L8.5 2.5l-.94 2.06-2.06.94zm10 10l.94 2.06.94-2.06 2.06-.94-2.06-.94-.94-2.06-.94 2.06-2.06.94z\"/><path d=\"M17.41 7.96l-1.37-1.37c-.4-.4-.92-.59-1.43-.59-.52 0-1.04.2-1.43.59L10.3 9.45l-7.72 7.72c-.78.78-.78 2.05 0 2.83L4 21.41c.39.39.9.59 1.41.59.51 0 1.02-.2 1.41-.59l7.78-7.78 2.81-2.81c.8-.78.8-2.07 0-2.86zM5.41 20L4 18.59l7.72-7.72 1.47 1.35L5.41 20z\"/>\n",
       "  </svg>\n",
       "      </button>\n",
       "      \n",
       "  <style>\n",
       "    .colab-df-container {\n",
       "      display:flex;\n",
       "      flex-wrap:wrap;\n",
       "      gap: 12px;\n",
       "    }\n",
       "\n",
       "    .colab-df-convert {\n",
       "      background-color: #E8F0FE;\n",
       "      border: none;\n",
       "      border-radius: 50%;\n",
       "      cursor: pointer;\n",
       "      display: none;\n",
       "      fill: #1967D2;\n",
       "      height: 32px;\n",
       "      padding: 0 0 0 0;\n",
       "      width: 32px;\n",
       "    }\n",
       "\n",
       "    .colab-df-convert:hover {\n",
       "      background-color: #E2EBFA;\n",
       "      box-shadow: 0px 1px 2px rgba(60, 64, 67, 0.3), 0px 1px 3px 1px rgba(60, 64, 67, 0.15);\n",
       "      fill: #174EA6;\n",
       "    }\n",
       "\n",
       "    [theme=dark] .colab-df-convert {\n",
       "      background-color: #3B4455;\n",
       "      fill: #D2E3FC;\n",
       "    }\n",
       "\n",
       "    [theme=dark] .colab-df-convert:hover {\n",
       "      background-color: #434B5C;\n",
       "      box-shadow: 0px 1px 3px 1px rgba(0, 0, 0, 0.15);\n",
       "      filter: drop-shadow(0px 1px 2px rgba(0, 0, 0, 0.3));\n",
       "      fill: #FFFFFF;\n",
       "    }\n",
       "  </style>\n",
       "\n",
       "      <script>\n",
       "        const buttonEl =\n",
       "          document.querySelector('#df-b9d927d7-37bf-4c92-9952-8e14128af74d button.colab-df-convert');\n",
       "        buttonEl.style.display =\n",
       "          google.colab.kernel.accessAllowed ? 'block' : 'none';\n",
       "\n",
       "        async function convertToInteractive(key) {\n",
       "          const element = document.querySelector('#df-b9d927d7-37bf-4c92-9952-8e14128af74d');\n",
       "          const dataTable =\n",
       "            await google.colab.kernel.invokeFunction('convertToInteractive',\n",
       "                                                     [key], {});\n",
       "          if (!dataTable) return;\n",
       "\n",
       "          const docLinkHtml = 'Like what you see? Visit the ' +\n",
       "            '<a target=\"_blank\" href=https://colab.research.google.com/notebooks/data_table.ipynb>data table notebook</a>'\n",
       "            + ' to learn more about interactive tables.';\n",
       "          element.innerHTML = '';\n",
       "          dataTable['output_type'] = 'display_data';\n",
       "          await google.colab.output.renderOutput(dataTable, element);\n",
       "          const docLink = document.createElement('div');\n",
       "          docLink.innerHTML = docLinkHtml;\n",
       "          element.appendChild(docLink);\n",
       "        }\n",
       "      </script>\n",
       "    </div>\n",
       "  </div>\n",
       "  "
      ],
      "text/plain": [
       "                                              abstract                                              title\n",
       "0    Most sequence transformation models use recurr...  a deep learning approach to recurrent neural n...\n",
       "1    The doc2vec approach was introduced as an exte...      a new approach to the emc2c22veveveveveveveve\n",
       "2    LSTM models can vary greatly depending on sequ...  a multiplicative lstmm approach to lstm search...\n",
       "3    A joint learning process of alignment and tran...  a new approach to understanding the attention ...\n",
       "4    Current unsupervised image-to-image translatio...     unsupervised image translation unsuperpervised\n",
       "..                                                 ...                                                ...\n",
       "995  subsystem codes are the most versatile class o...                              subsymmetric subsymme\n",
       "996  we study dirac-harmonic maps from degenerating...  dirichlet - type dirichlet maps on the dir dir...\n",
       "997  in this note we study kloosterman sums twisted...  a note on kronecker sums counting on k \\ ' e $...\n",
       "998  we obtain the rate of growth of long strange s...  long strange segments, ruin probabilities and ...\n",
       "999  the time evolution of a spin-1/2 particle unde...  a non - equilibrium model of the spin - orbit ...\n",
       "\n",
       "[1000 rows x 2 columns]"
      ]
     },
     "execution_count": 65,
     "metadata": {},
     "output_type": "execute_result"
    }
   ],
   "source": [
    "test_data"
   ]
  },
  {
   "cell_type": "code",
   "execution_count": 66,
   "metadata": {
    "colab": {
     "base_uri": "https://localhost:8080/",
     "height": 35
    },
    "executionInfo": {
     "elapsed": 254,
     "status": "ok",
     "timestamp": 1641466749674,
     "user": {
      "displayName": "Alexander Bryl",
      "photoUrl": "https://lh3.googleusercontent.com/a-/AOh14GhuJCeslApg3tibJdmz5Kwp6mDn3oGgdrlMh_Lu=s64",
      "userId": "08526173353073355563"
     },
     "user_tz": -180
    },
    "id": "H-XiONDKA7_8",
    "outputId": "5270743b-3f38-4de4-f9a6-0dd3a57a67b2"
   },
   "outputs": [
    {
     "data": {
      "application/vnd.google.colaboratory.intrinsic+json": {
       "type": "string"
      },
      "text/plain": [
       "'a new approach to the emc2c22veveveveveveveve'"
      ]
     },
     "execution_count": 66,
     "metadata": {},
     "output_type": "execute_result"
    }
   ],
   "source": [
    "test_data.loc[1, 'title']"
   ]
  },
  {
   "cell_type": "code",
   "execution_count": 67,
   "metadata": {
    "executionInfo": {
     "elapsed": 253,
     "status": "ok",
     "timestamp": 1641466871661,
     "user": {
      "displayName": "Alexander Bryl",
      "photoUrl": "https://lh3.googleusercontent.com/a-/AOh14GhuJCeslApg3tibJdmz5Kwp6mDn3oGgdrlMh_Lu=s64",
      "userId": "08526173353073355563"
     },
     "user_tz": -180
    },
    "id": "xa2ofiH8CuBd"
   },
   "outputs": [],
   "source": [
    "test_data.to_csv(data_path + 'my_test.csv', index=False)"
   ]
  },
  {
   "cell_type": "code",
   "execution_count": null,
   "metadata": {
    "id": "Huzk6Xt3DLz4"
   },
   "outputs": [],
   "source": []
  }
 ],
 "metadata": {
  "accelerator": "GPU",
  "colab": {
   "authorship_tag": "ABX9TyMIq+4zLcQPev9lJXceg5Rr",
   "collapsed_sections": [],
   "mount_file_id": "108a_yaqG5ISomShvz5BZCk2caGCC4i6x",
   "name": "kaggle_stepik.ipynb",
   "provenance": []
  },
  "kernelspec": {
   "display_name": "Python 3 (ipykernel)",
   "language": "python",
   "name": "python3"
  },
  "language_info": {
   "codemirror_mode": {
    "name": "ipython",
    "version": 3
   },
   "file_extension": ".py",
   "mimetype": "text/x-python",
   "name": "python",
   "nbconvert_exporter": "python",
   "pygments_lexer": "ipython3",
   "version": "3.8.10"
  },
  "widgets": {
   "application/vnd.jupyter.widget-state+json": {
    "0c9432a10c684503a7a4fa2fded08f29": {
     "model_module": "@jupyter-widgets/base",
     "model_module_version": "1.2.0",
     "model_name": "LayoutModel",
     "state": {
      "_model_module": "@jupyter-widgets/base",
      "_model_module_version": "1.2.0",
      "_model_name": "LayoutModel",
      "_view_count": null,
      "_view_module": "@jupyter-widgets/base",
      "_view_module_version": "1.2.0",
      "_view_name": "LayoutView",
      "align_content": null,
      "align_items": null,
      "align_self": null,
      "border": null,
      "bottom": null,
      "display": null,
      "flex": null,
      "flex_flow": null,
      "grid_area": null,
      "grid_auto_columns": null,
      "grid_auto_flow": null,
      "grid_auto_rows": null,
      "grid_column": null,
      "grid_gap": null,
      "grid_row": null,
      "grid_template_areas": null,
      "grid_template_columns": null,
      "grid_template_rows": null,
      "height": null,
      "justify_content": null,
      "justify_items": null,
      "left": null,
      "margin": null,
      "max_height": null,
      "max_width": null,
      "min_height": null,
      "min_width": null,
      "object_fit": null,
      "object_position": null,
      "order": null,
      "overflow": null,
      "overflow_x": null,
      "overflow_y": null,
      "padding": null,
      "right": null,
      "top": null,
      "visibility": null,
      "width": null
     }
    },
    "1b7a83bf15ab4d3182b2c33b9e305b88": {
     "model_module": "@jupyter-widgets/controls",
     "model_module_version": "1.5.0",
     "model_name": "DescriptionStyleModel",
     "state": {
      "_model_module": "@jupyter-widgets/controls",
      "_model_module_version": "1.5.0",
      "_model_name": "DescriptionStyleModel",
      "_view_count": null,
      "_view_module": "@jupyter-widgets/base",
      "_view_module_version": "1.2.0",
      "_view_name": "StyleView",
      "description_width": ""
     }
    },
    "2d7a2761070e4718a122a5077934cc8a": {
     "model_module": "@jupyter-widgets/controls",
     "model_module_version": "1.5.0",
     "model_name": "ProgressStyleModel",
     "state": {
      "_model_module": "@jupyter-widgets/controls",
      "_model_module_version": "1.5.0",
      "_model_name": "ProgressStyleModel",
      "_view_count": null,
      "_view_module": "@jupyter-widgets/base",
      "_view_module_version": "1.2.0",
      "_view_name": "StyleView",
      "bar_color": null,
      "description_width": ""
     }
    },
    "2e56d308865b4858be49fe3c6062774f": {
     "model_module": "@jupyter-widgets/controls",
     "model_module_version": "1.5.0",
     "model_name": "FloatProgressModel",
     "state": {
      "_dom_classes": [],
      "_model_module": "@jupyter-widgets/controls",
      "_model_module_version": "1.5.0",
      "_model_name": "FloatProgressModel",
      "_view_count": null,
      "_view_module": "@jupyter-widgets/controls",
      "_view_module_version": "1.5.0",
      "_view_name": "ProgressView",
      "bar_style": "success",
      "description": "",
      "description_tooltip": null,
      "layout": "IPY_MODEL_8a98f5d4a41a4b02958e448c57785212",
      "max": 569,
      "min": 0,
      "orientation": "horizontal",
      "style": "IPY_MODEL_2d7a2761070e4718a122a5077934cc8a",
      "value": 569
     }
    },
    "5c3bca88380a4e5bb5e22263d500bd8a": {
     "model_module": "@jupyter-widgets/base",
     "model_module_version": "1.2.0",
     "model_name": "LayoutModel",
     "state": {
      "_model_module": "@jupyter-widgets/base",
      "_model_module_version": "1.2.0",
      "_model_name": "LayoutModel",
      "_view_count": null,
      "_view_module": "@jupyter-widgets/base",
      "_view_module_version": "1.2.0",
      "_view_name": "LayoutView",
      "align_content": null,
      "align_items": null,
      "align_self": null,
      "border": null,
      "bottom": null,
      "display": null,
      "flex": null,
      "flex_flow": null,
      "grid_area": null,
      "grid_auto_columns": null,
      "grid_auto_flow": null,
      "grid_auto_rows": null,
      "grid_column": null,
      "grid_gap": null,
      "grid_row": null,
      "grid_template_areas": null,
      "grid_template_columns": null,
      "grid_template_rows": null,
      "height": null,
      "justify_content": null,
      "justify_items": null,
      "left": null,
      "margin": null,
      "max_height": null,
      "max_width": null,
      "min_height": null,
      "min_width": null,
      "object_fit": null,
      "object_position": null,
      "order": null,
      "overflow": null,
      "overflow_x": null,
      "overflow_y": null,
      "padding": null,
      "right": null,
      "top": null,
      "visibility": null,
      "width": null
     }
    },
    "703586564b1440e2ba562198ad0d1c9e": {
     "model_module": "@jupyter-widgets/controls",
     "model_module_version": "1.5.0",
     "model_name": "HTMLModel",
     "state": {
      "_dom_classes": [],
      "_model_module": "@jupyter-widgets/controls",
      "_model_module_version": "1.5.0",
      "_model_name": "HTMLModel",
      "_view_count": null,
      "_view_module": "@jupyter-widgets/controls",
      "_view_module_version": "1.5.0",
      "_view_name": "HTMLView",
      "description": "",
      "description_tooltip": null,
      "layout": "IPY_MODEL_5c3bca88380a4e5bb5e22263d500bd8a",
      "placeholder": "​",
      "style": "IPY_MODEL_877463ab4eae489da0b59e0418cb2dbc",
      "value": " 569/569 [04:25&lt;00:00,  2.13it/s]"
     }
    },
    "81e3a48911a643b6842311b74ced26da": {
     "model_module": "@jupyter-widgets/controls",
     "model_module_version": "1.5.0",
     "model_name": "HBoxModel",
     "state": {
      "_dom_classes": [],
      "_model_module": "@jupyter-widgets/controls",
      "_model_module_version": "1.5.0",
      "_model_name": "HBoxModel",
      "_view_count": null,
      "_view_module": "@jupyter-widgets/controls",
      "_view_module_version": "1.5.0",
      "_view_name": "HBoxView",
      "box_style": "",
      "children": [
       "IPY_MODEL_ce83e137773143dc8eeb73d0a7361397",
       "IPY_MODEL_2e56d308865b4858be49fe3c6062774f",
       "IPY_MODEL_703586564b1440e2ba562198ad0d1c9e"
      ],
      "layout": "IPY_MODEL_c62883dff2a6444498fe91a503e296e4"
     }
    },
    "877463ab4eae489da0b59e0418cb2dbc": {
     "model_module": "@jupyter-widgets/controls",
     "model_module_version": "1.5.0",
     "model_name": "DescriptionStyleModel",
     "state": {
      "_model_module": "@jupyter-widgets/controls",
      "_model_module_version": "1.5.0",
      "_model_name": "DescriptionStyleModel",
      "_view_count": null,
      "_view_module": "@jupyter-widgets/base",
      "_view_module_version": "1.2.0",
      "_view_name": "StyleView",
      "description_width": ""
     }
    },
    "8a98f5d4a41a4b02958e448c57785212": {
     "model_module": "@jupyter-widgets/base",
     "model_module_version": "1.2.0",
     "model_name": "LayoutModel",
     "state": {
      "_model_module": "@jupyter-widgets/base",
      "_model_module_version": "1.2.0",
      "_model_name": "LayoutModel",
      "_view_count": null,
      "_view_module": "@jupyter-widgets/base",
      "_view_module_version": "1.2.0",
      "_view_name": "LayoutView",
      "align_content": null,
      "align_items": null,
      "align_self": null,
      "border": null,
      "bottom": null,
      "display": null,
      "flex": null,
      "flex_flow": null,
      "grid_area": null,
      "grid_auto_columns": null,
      "grid_auto_flow": null,
      "grid_auto_rows": null,
      "grid_column": null,
      "grid_gap": null,
      "grid_row": null,
      "grid_template_areas": null,
      "grid_template_columns": null,
      "grid_template_rows": null,
      "height": null,
      "justify_content": null,
      "justify_items": null,
      "left": null,
      "margin": null,
      "max_height": null,
      "max_width": null,
      "min_height": null,
      "min_width": null,
      "object_fit": null,
      "object_position": null,
      "order": null,
      "overflow": null,
      "overflow_x": null,
      "overflow_y": null,
      "padding": null,
      "right": null,
      "top": null,
      "visibility": null,
      "width": null
     }
    },
    "c62883dff2a6444498fe91a503e296e4": {
     "model_module": "@jupyter-widgets/base",
     "model_module_version": "1.2.0",
     "model_name": "LayoutModel",
     "state": {
      "_model_module": "@jupyter-widgets/base",
      "_model_module_version": "1.2.0",
      "_model_name": "LayoutModel",
      "_view_count": null,
      "_view_module": "@jupyter-widgets/base",
      "_view_module_version": "1.2.0",
      "_view_name": "LayoutView",
      "align_content": null,
      "align_items": null,
      "align_self": null,
      "border": null,
      "bottom": null,
      "display": null,
      "flex": null,
      "flex_flow": null,
      "grid_area": null,
      "grid_auto_columns": null,
      "grid_auto_flow": null,
      "grid_auto_rows": null,
      "grid_column": null,
      "grid_gap": null,
      "grid_row": null,
      "grid_template_areas": null,
      "grid_template_columns": null,
      "grid_template_rows": null,
      "height": null,
      "justify_content": null,
      "justify_items": null,
      "left": null,
      "margin": null,
      "max_height": null,
      "max_width": null,
      "min_height": null,
      "min_width": null,
      "object_fit": null,
      "object_position": null,
      "order": null,
      "overflow": null,
      "overflow_x": null,
      "overflow_y": null,
      "padding": null,
      "right": null,
      "top": null,
      "visibility": null,
      "width": null
     }
    },
    "ce83e137773143dc8eeb73d0a7361397": {
     "model_module": "@jupyter-widgets/controls",
     "model_module_version": "1.5.0",
     "model_name": "HTMLModel",
     "state": {
      "_dom_classes": [],
      "_model_module": "@jupyter-widgets/controls",
      "_model_module_version": "1.5.0",
      "_model_name": "HTMLModel",
      "_view_count": null,
      "_view_module": "@jupyter-widgets/controls",
      "_view_module_version": "1.5.0",
      "_view_name": "HTMLView",
      "description": "",
      "description_tooltip": null,
      "layout": "IPY_MODEL_0c9432a10c684503a7a4fa2fded08f29",
      "placeholder": "​",
      "style": "IPY_MODEL_1b7a83bf15ab4d3182b2c33b9e305b88",
      "value": "100%"
     }
    }
   }
  }
 },
 "nbformat": 4,
 "nbformat_minor": 4
}
